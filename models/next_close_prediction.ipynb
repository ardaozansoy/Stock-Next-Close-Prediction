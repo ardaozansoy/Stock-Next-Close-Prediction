{
 "cells": [
  {
   "cell_type": "code",
   "id": "initial_id",
   "metadata": {
    "collapsed": true
   },
   "source": [
    "import pandas as pd\n",
    "import numpy as np\n",
    "from sklearn.model_selection import train_test_split\n",
    "from sklearn.svm import SVR\n",
    "from sklearn.preprocessing import StandardScaler\n",
    "from sklearn.metrics import mean_squared_error\n",
    "from sklearn.model_selection import GridSearchCV\n",
    "import matplotlib.pyplot as plt"
   ],
   "outputs": [],
   "execution_count": null
  },
  {
   "metadata": {},
   "cell_type": "code",
   "source": [
    "data = pd.read_csv(\"data/Netflix_Data.csv\", index_col=0)\n",
    "df = data.copy()\n",
    "df.head()"
   ],
   "id": "33acdcc55b51c3c6",
   "outputs": [],
   "execution_count": null
  },
  {
   "metadata": {},
   "cell_type": "code",
   "source": [
    "df[\"Day\"] = pd.to_datetime(df[\"Date\"]).dt.day\n",
    "df[\"Month\"] = pd.to_datetime(df[\"Date\"]).dt.month\n",
    "df[\"Year\"] = pd.to_datetime(df[\"Date\"]).dt.year\n",
    "df.drop(columns=[\"Date\"], inplace=True)\n",
    "\n",
    "df[\"Next_Close\"] = df[\"Close\"].shift(-1)\n",
    "\n",
    "df = df.dropna()\n",
    "df.head()"
   ],
   "id": "d1f359e140b3c85e",
   "outputs": [],
   "execution_count": null
  },
  {
   "metadata": {},
   "cell_type": "code",
   "source": [
    "X = df.drop(columns=[\"Next_Close\"], axis=1)\n",
    "Y = df[\"Next_Close\"]"
   ],
   "id": "b6fbef6e88ab02c7",
   "outputs": [],
   "execution_count": null
  },
  {
   "metadata": {},
   "cell_type": "code",
   "source": "x_train, x_test, y_train, y_test = train_test_split(X, Y, test_size=0.2, random_state=42)",
   "id": "ba46b490adc9aee8",
   "outputs": [],
   "execution_count": null
  },
  {
   "metadata": {},
   "cell_type": "code",
   "source": [
    "scaler = StandardScaler()\n",
    "x_train = scaler.fit_transform(x_train)\n",
    "x_test = scaler.transform(x_test)"
   ],
   "id": "2e2e1b1abba6b28a",
   "outputs": [],
   "execution_count": null
  },
  {
   "metadata": {},
   "cell_type": "code",
   "source": [
    "model = SVR(kernel='rbf')\n",
    "model.fit(x_train, y_train)"
   ],
   "id": "a49cecaf94542ea8",
   "outputs": [],
   "execution_count": null
  },
  {
   "metadata": {},
   "cell_type": "code",
   "source": [
    "y_pred = model.predict(x_test)\n",
    "np.sqrt(mean_squared_error(y_test, y_pred))"
   ],
   "id": "6cd9c3f36899dfff",
   "outputs": [],
   "execution_count": null
  },
  {
   "metadata": {},
   "cell_type": "code",
   "source": [
    "param_grid = {\n",
    "    'C': [0.1, 1, 10, 100],\n",
    "    'epsilon': [0.01, 0.1, 0.2],\n",
    "    'gamma': ['scale', 'auto', 0.1, 1]\n",
    "}"
   ],
   "id": "c7ab844d110cf069",
   "outputs": [],
   "execution_count": null
  },
  {
   "metadata": {},
   "cell_type": "code",
   "source": [
    "grid_search = GridSearchCV(estimator=model, param_grid=param_grid, cv=5, scoring='neg_mean_squared_error', n_jobs=-1)\n",
    "grid_search.fit(x_train, y_train)"
   ],
   "id": "36974a90c3096231",
   "outputs": [],
   "execution_count": null
  },
  {
   "metadata": {},
   "cell_type": "code",
   "source": [
    "model_tuned = grid_search.best_estimator_\n",
    "y_pred_tuned = model_tuned.predict(x_test)\n",
    "np.sqrt(mean_squared_error(y_test, y_pred_tuned))"
   ],
   "id": "96904bc97f7c12c3",
   "outputs": [],
   "execution_count": null
  },
  {
   "metadata": {},
   "cell_type": "code",
   "source": [
    "plt.figure(figsize=(14, 7))\n",
    "plt.plot(y_test.values, label='Actual', color='blue')\n",
    "plt.plot(y_pred_tuned, label='Predicted', color='red')\n",
    "plt.xlabel(\"Time Index\")\n",
    "plt.ylabel(\"Stock Price (USD)\")\n",
    "plt.title('Netflix Stock Price Prediction')\n",
    "plt.legend()\n",
    "plt.show()"
   ],
   "id": "faebe20fda403f4c",
   "outputs": [],
   "execution_count": null
  }
 ],
 "metadata": {
  "kernelspec": {
   "display_name": "Python 3",
   "language": "python",
   "name": "python3"
  },
  "language_info": {
   "codemirror_mode": {
    "name": "ipython",
    "version": 2
   },
   "file_extension": ".py",
   "mimetype": "text/x-python",
   "name": "python",
   "nbconvert_exporter": "python",
   "pygments_lexer": "ipython2",
   "version": "2.7.6"
  }
 },
 "nbformat": 4,
 "nbformat_minor": 5
}
